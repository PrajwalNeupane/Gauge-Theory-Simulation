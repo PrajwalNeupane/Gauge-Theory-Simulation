{
  "cells": [
    {
      "cell_type": "code",
      "source": [
        "%pip install qiskit qiskit-ibm-runtime qiskit-aer\n",
        "!pip install pylatexenc matplotlib"
      ],
      "metadata": {
        "colab": {
          "base_uri": "https://localhost:8080/"
        },
        "id": "Us25d3BiXlWP",
        "outputId": "36347d49-0573-49eb-93e0-167c114acd53"
      },
      "id": "Us25d3BiXlWP",
      "execution_count": null,
      "outputs": [
        {
          "output_type": "stream",
          "name": "stdout",
          "text": [
            "Requirement already satisfied: qiskit in /usr/local/lib/python3.10/dist-packages (1.1.1)\n",
            "Requirement already satisfied: qiskit-ibm-runtime in /usr/local/lib/python3.10/dist-packages (0.24.1)\n",
            "Requirement already satisfied: qiskit-aer in /usr/local/lib/python3.10/dist-packages (0.14.2)\n",
            "Requirement already satisfied: rustworkx>=0.14.0 in /usr/local/lib/python3.10/dist-packages (from qiskit) (0.15.0)\n",
            "Requirement already satisfied: numpy<3,>=1.17 in /usr/local/lib/python3.10/dist-packages (from qiskit) (1.25.2)\n",
            "Requirement already satisfied: scipy>=1.5 in /usr/local/lib/python3.10/dist-packages (from qiskit) (1.11.4)\n",
            "Requirement already satisfied: sympy>=1.3 in /usr/local/lib/python3.10/dist-packages (from qiskit) (1.12.1)\n",
            "Requirement already satisfied: dill>=0.3 in /usr/local/lib/python3.10/dist-packages (from qiskit) (0.3.8)\n",
            "Requirement already satisfied: python-dateutil>=2.8.0 in /usr/local/lib/python3.10/dist-packages (from qiskit) (2.8.2)\n",
            "Requirement already satisfied: stevedore>=3.0.0 in /usr/local/lib/python3.10/dist-packages (from qiskit) (5.2.0)\n",
            "Requirement already satisfied: typing-extensions in /usr/local/lib/python3.10/dist-packages (from qiskit) (4.12.2)\n",
            "Requirement already satisfied: symengine>=0.11 in /usr/local/lib/python3.10/dist-packages (from qiskit) (0.11.0)\n",
            "Requirement already satisfied: requests>=2.19 in /usr/local/lib/python3.10/dist-packages (from qiskit-ibm-runtime) (2.31.0)\n",
            "Requirement already satisfied: requests-ntlm>=1.1.0 in /usr/local/lib/python3.10/dist-packages (from qiskit-ibm-runtime) (1.3.0)\n",
            "Requirement already satisfied: urllib3>=1.21.1 in /usr/local/lib/python3.10/dist-packages (from qiskit-ibm-runtime) (2.2.2)\n",
            "Requirement already satisfied: websocket-client>=1.5.1 in /usr/local/lib/python3.10/dist-packages (from qiskit-ibm-runtime) (1.8.0)\n",
            "Requirement already satisfied: ibm-platform-services>=0.22.6 in /usr/local/lib/python3.10/dist-packages (from qiskit-ibm-runtime) (0.54.1)\n",
            "Requirement already satisfied: pydantic in /usr/local/lib/python3.10/dist-packages (from qiskit-ibm-runtime) (2.7.4)\n",
            "Requirement already satisfied: psutil>=5 in /usr/local/lib/python3.10/dist-packages (from qiskit-aer) (5.9.5)\n",
            "Requirement already satisfied: ibm-cloud-sdk-core<4.0.0,>=3.19.2 in /usr/local/lib/python3.10/dist-packages (from ibm-platform-services>=0.22.6->qiskit-ibm-runtime) (3.20.1)\n",
            "Requirement already satisfied: six>=1.5 in /usr/local/lib/python3.10/dist-packages (from python-dateutil>=2.8.0->qiskit) (1.16.0)\n",
            "Requirement already satisfied: charset-normalizer<4,>=2 in /usr/local/lib/python3.10/dist-packages (from requests>=2.19->qiskit-ibm-runtime) (3.3.2)\n",
            "Requirement already satisfied: idna<4,>=2.5 in /usr/local/lib/python3.10/dist-packages (from requests>=2.19->qiskit-ibm-runtime) (3.7)\n",
            "Requirement already satisfied: certifi>=2017.4.17 in /usr/local/lib/python3.10/dist-packages (from requests>=2.19->qiskit-ibm-runtime) (2024.6.2)\n",
            "Requirement already satisfied: cryptography>=1.3 in /usr/local/lib/python3.10/dist-packages (from requests-ntlm>=1.1.0->qiskit-ibm-runtime) (42.0.8)\n",
            "Requirement already satisfied: pyspnego>=0.4.0 in /usr/local/lib/python3.10/dist-packages (from requests-ntlm>=1.1.0->qiskit-ibm-runtime) (0.11.0)\n",
            "Requirement already satisfied: pbr!=2.1.0,>=2.0.0 in /usr/local/lib/python3.10/dist-packages (from stevedore>=3.0.0->qiskit) (6.0.0)\n",
            "Requirement already satisfied: mpmath<1.4.0,>=1.1.0 in /usr/local/lib/python3.10/dist-packages (from sympy>=1.3->qiskit) (1.3.0)\n",
            "Requirement already satisfied: annotated-types>=0.4.0 in /usr/local/lib/python3.10/dist-packages (from pydantic->qiskit-ibm-runtime) (0.7.0)\n",
            "Requirement already satisfied: pydantic-core==2.18.4 in /usr/local/lib/python3.10/dist-packages (from pydantic->qiskit-ibm-runtime) (2.18.4)\n",
            "Requirement already satisfied: cffi>=1.12 in /usr/local/lib/python3.10/dist-packages (from cryptography>=1.3->requests-ntlm>=1.1.0->qiskit-ibm-runtime) (1.16.0)\n",
            "Requirement already satisfied: PyJWT<3.0.0,>=2.8.0 in /usr/local/lib/python3.10/dist-packages (from ibm-cloud-sdk-core<4.0.0,>=3.19.2->ibm-platform-services>=0.22.6->qiskit-ibm-runtime) (2.8.0)\n",
            "Requirement already satisfied: pycparser in /usr/local/lib/python3.10/dist-packages (from cffi>=1.12->cryptography>=1.3->requests-ntlm>=1.1.0->qiskit-ibm-runtime) (2.22)\n",
            "Requirement already satisfied: pylatexenc in /usr/local/lib/python3.10/dist-packages (2.10)\n",
            "Requirement already satisfied: matplotlib in /usr/local/lib/python3.10/dist-packages (3.7.1)\n",
            "Requirement already satisfied: contourpy>=1.0.1 in /usr/local/lib/python3.10/dist-packages (from matplotlib) (1.2.1)\n",
            "Requirement already satisfied: cycler>=0.10 in /usr/local/lib/python3.10/dist-packages (from matplotlib) (0.12.1)\n",
            "Requirement already satisfied: fonttools>=4.22.0 in /usr/local/lib/python3.10/dist-packages (from matplotlib) (4.53.0)\n",
            "Requirement already satisfied: kiwisolver>=1.0.1 in /usr/local/lib/python3.10/dist-packages (from matplotlib) (1.4.5)\n",
            "Requirement already satisfied: numpy>=1.20 in /usr/local/lib/python3.10/dist-packages (from matplotlib) (1.25.2)\n",
            "Requirement already satisfied: packaging>=20.0 in /usr/local/lib/python3.10/dist-packages (from matplotlib) (24.1)\n",
            "Requirement already satisfied: pillow>=6.2.0 in /usr/local/lib/python3.10/dist-packages (from matplotlib) (9.4.0)\n",
            "Requirement already satisfied: pyparsing>=2.3.1 in /usr/local/lib/python3.10/dist-packages (from matplotlib) (3.1.2)\n",
            "Requirement already satisfied: python-dateutil>=2.7 in /usr/local/lib/python3.10/dist-packages (from matplotlib) (2.8.2)\n",
            "Requirement already satisfied: six>=1.5 in /usr/local/lib/python3.10/dist-packages (from python-dateutil>=2.7->matplotlib) (1.16.0)\n"
          ]
        }
      ]
    },
    {
      "cell_type": "markdown",
      "id": "6188f5a5",
      "metadata": {
        "tags": [],
        "id": "6188f5a5"
      },
      "source": [
        "# Further Closure:  \n",
        "## A final project on simulating something \"like electrons and positrons\"\n",
        "\n",
        "## Objectives:\n",
        "\n",
        "* Gain familiarity with simulating quantum systems through trotterization\n",
        "* Using all your accrued skills, implement a novel code on a real device\n",
        "* Perform statistical analysis on noisy data\n",
        "\n",
        "This lab is a vain attempt to extend some of the work performed in <font color='blue'>https://arxiv.org/abs/1903.08807</font> to actual machines. I have tried to inject this with as much of the real feel of doing work on quantum algorithms today as possible. Typically, each year some of our year-long interns take this code and extend it in some way...see https://journals.aps.org/pre/abstract/10.1103/PhysRevE.109.015307\n",
        "\n",
        "\n",
        "## The Model: 1+1d $Z_2$ gauge theory with staggered fermionic matter\n",
        "\n",
        "## The Hamiltonian\n",
        "\n",
        "The lattice qubit Hamiltonian for this model is\n",
        "\n",
        "$$\n",
        "H = \\frac{m}{2}Z_{e}-\\frac{m}{2} Z_{p}\n",
        "+X_{\\gamma}+\\frac{1}{4}Z_{\\gamma} \\left(X_{e}X_{p}+Y_e Y_{p}\\right)\n",
        "$$\n",
        "\n",
        "The subscripts indicate which of the 3 qubits a given gate is acting on (the electron $e$, the positron $p$, or the photon $\\gamma$)\n",
        "\n",
        "## Time Evolution\n",
        "\n",
        "$$ |\\psi(t)\\rangle = U|\\psi_0\\rangle=e^{-iHt}|\\psi_0\\rangle$$\n",
        "\n",
        "Thinking back to Hersh's lecture, we remember that $H$ often has non-commuting terms, which prevents the gate $U$ from being efficiently built into a circuit.  The method of _trotterization_ allows us approximate the $U$ in a way that is efficient.  In our case, there are 3 terms in our Hamiltonian:\n",
        "\n",
        "$$ H = H_{kg} + H_{fh} + H_{m} $$\n",
        "\n",
        "* $H_{kg}$ is the kinetic term for the photon\n",
        "* $H_{fh}$ is the fermionic hopping term\n",
        "* $H_{m}$ is the fermionic mass terms\n",
        "\n",
        "In this case, we can approximate $U$ by:\n",
        "\n",
        "$$\\Large U=e^{-iHt}\\approx \\left(e^{-iH_{kg}\\epsilon}e^{-iH_{fh}\\epsilon}e^{-iH_{m}\\epsilon}\\right)^{t/\\epsilon}+O(\\epsilon^2)\\equiv (U_\\epsilon)^{N} $$\n",
        "where $N=t/\\epsilon$ is the number of time steps we want to use. With this, we can now write $U_\\epsilon$ in terms of gates:\n",
        "\n",
        "$$\\Large{ U_{\\epsilon}=e^{-iH_{kg}\\epsilon}e^{-iH_{fh}\\epsilon}e^{-iH_{m}\\epsilon}\n",
        "\\\\     =e^{-i\\epsilon X_\\gamma}e^{-i\\frac{\\epsilon}{4}Z_{\\gamma} \\left(X_{e}X_{p}+Y_e Y_{p}\\right)}e^{-i(-1)^j m \\epsilon Z_j} }$$\n",
        "where $j={e=0,p=1}$\n",
        "Now, the first and last gates should look familar to you as general rotation gates in the $X,Z$ directions:\n",
        "\n",
        "$$ e^{-i\\epsilon X_\\gamma}=RX(-\\epsilon/2)$$\n",
        "\n",
        "$$ e^{-i(-1)^j m \\epsilon Z_j}=RZ((-1)^{j+1}m\\epsilon )  $$"
      ]
    },
    {
      "cell_type": "markdown",
      "id": "6aa9b1a6",
      "metadata": {
        "id": "6aa9b1a6"
      },
      "source": [
        "The final term, fermion hopping $U_{fh}$, is by far the hardest and most non-trivial gate.  Previously, you implemented a 4 qubit gate for performing this by defining a gate $RZ3$ as the collection of CNOTs and the $RZ$ gate, this gate looks like:\n",
        "\n",
        "![image.png](data:image/png;base64,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)"
      ]
    },
    {
      "cell_type": "markdown",
      "id": "465856ab",
      "metadata": {
        "id": "465856ab"
      },
      "source": [
        "from which we can get the $U_{fh}$ as:\n",
        "\n",
        "![image.png](data:image/png;base64,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)\n",
        "\n",
        "Notice that this gate requires 12 $CNOTs$.  Since 2-qubit gates errors are much larger than 1 qubit errors, the errors in $U_{fh}$ dominate our circuit.\n",
        "\n",
        "We will come back to this."
      ]
    },
    {
      "cell_type": "markdown",
      "id": "10fb47e9",
      "metadata": {
        "id": "10fb47e9"
      },
      "source": [
        "\n",
        "## ...Ready for it?\n",
        "\n",
        "So first of, lets of course set up all the imports that we need:\n",
        "\n",
        "* numpy\n",
        "* import everything from qiskit\n",
        "* import `matplotlib.pyplot` as plt\n",
        "* Make sure you have $\\pi$\n",
        "* from scipy.optimize import curve_fit"
      ]
    },
    {
      "cell_type": "code",
      "execution_count": null,
      "id": "f9f3204d",
      "metadata": {
        "id": "f9f3204d"
      },
      "outputs": [],
      "source": [
        "import numpy as np\n",
        "from scipy.optimize import curve_fit\n",
        "# Importing standard Qiskit libraries\n",
        "from qiskit import *\n",
        "\n",
        "# importing Qiskit\n",
        "from qiskit import QuantumCircuit, transpile\n",
        "from qiskit.transpiler.preset_passmanagers import generate_preset_pass_manager\n",
        "from qiskit.providers.fake_provider import GenericBackendV2\n",
        "from qiskit_aer import AerSimulator\n",
        "from qiskit_ibm_runtime import SamplerV2 as Sampler\n",
        "from qiskit_ibm_runtime import QiskitRuntimeService\n",
        "\n",
        "# import basic plot tools\n",
        "from qiskit.visualization import plot_histogram\n",
        "\n",
        "from math import pi\n",
        "import matplotlib.pyplot as plt"
      ]
    },
    {
      "cell_type": "markdown",
      "id": "1f57ad8e",
      "metadata": {
        "id": "1f57ad8e"
      },
      "source": [
        "Next, you neeed to load your IBMQ account, and set your token"
      ]
    },
    {
      "cell_type": "code",
      "execution_count": null,
      "id": "ecd24ada",
      "metadata": {
        "id": "ecd24ada",
        "outputId": "653b7fe3-9118-4249-f8fc-b569574b5166",
        "colab": {
          "base_uri": "https://localhost:8080/"
        }
      },
      "outputs": [
        {
          "output_type": "execute_result",
          "data": {
            "text/plain": [
              "<IBMBackend('ibm_brisbane')>"
            ]
          },
          "metadata": {},
          "execution_count": 3
        }
      ],
      "source": [
        "from qiskit_ibm_runtime import QiskitRuntimeService\n",
        "\n",
        "token=''\n",
        "QiskitRuntimeService.delete_account()\n",
        "QiskitRuntimeService.save_account(channel=\"ibm_quantum\", token=token, overwrite=True)\n",
        "service = QiskitRuntimeService()\n",
        "\n",
        "service.least_busy(simulator=False)"
      ]
    },
    {
      "cell_type": "markdown",
      "id": "b801f827",
      "metadata": {
        "id": "b801f827"
      },
      "source": [
        "Copy over from yesterday your initalization of `N,epsilon`, and `mass`"
      ]
    },
    {
      "cell_type": "code",
      "execution_count": null,
      "id": "7f7b04f3",
      "metadata": {
        "id": "7f7b04f3"
      },
      "outputs": [],
      "source": []
    },
    {
      "cell_type": "markdown",
      "id": "7cbf63f4",
      "metadata": {
        "id": "7cbf63f4"
      },
      "source": [
        "## Gauge Kinetic Gate\n",
        "Copy over your function for $RX(-\\epsilon/2)$"
      ]
    },
    {
      "cell_type": "code",
      "execution_count": null,
      "id": "d3a86bd1",
      "metadata": {
        "id": "d3a86bd1"
      },
      "outputs": [],
      "source": []
    },
    {
      "cell_type": "markdown",
      "id": "33d84035",
      "metadata": {
        "id": "33d84035"
      },
      "source": [
        "## Fermion mass gate\n",
        "\n",
        "Copy over your function for $RZ((-1)^{j+1}m\\epsilon ) $"
      ]
    },
    {
      "cell_type": "code",
      "execution_count": null,
      "id": "18920d12",
      "metadata": {
        "id": "18920d12"
      },
      "outputs": [],
      "source": []
    },
    {
      "cell_type": "markdown",
      "id": "78d17685",
      "metadata": {
        "id": "78d17685"
      },
      "source": [
        "## Fermion hopping term\n",
        "\n",
        "Copy over your functions for $RZ3$ and $U_{fh}$"
      ]
    },
    {
      "cell_type": "code",
      "execution_count": null,
      "id": "5d4362a2",
      "metadata": {
        "id": "5d4362a2"
      },
      "outputs": [],
      "source": []
    },
    {
      "cell_type": "code",
      "execution_count": null,
      "id": "71fc70c8",
      "metadata": {
        "id": "71fc70c8"
      },
      "outputs": [],
      "source": []
    },
    {
      "cell_type": "markdown",
      "id": "1ea2551b-1214-4d94-859f-5b227882559b",
      "metadata": {
        "id": "1ea2551b-1214-4d94-859f-5b227882559b"
      },
      "source": [
        "As I highlighted for you before, this gate takes 12 CNOTs and 4 qubits even though we only need 3 qubits for our model.  This particular implementation of $U_{fh}$ that you have constructed is in fact not the smartest way one could implement this gate -- but it was the first one that I found years ago and used for a long time.  \n",
        "\n",
        "Later, smarter people (like Erik perhaps) pointed out that you can do away with the ancilla qubit.  One possible 3 qubit implementation is given in the next cell"
      ]
    },
    {
      "cell_type": "code",
      "execution_count": null,
      "id": "4d47abea-cbfd-47ed-ad10-85196fe34284",
      "metadata": {
        "id": "4d47abea-cbfd-47ed-ad10-85196fe34284",
        "outputId": "1ec5fa81-7f92-4208-ba17-402e2d0600e1",
        "colab": {
          "base_uri": "https://localhost:8080/",
          "height": 255
        }
      },
      "outputs": [
        {
          "output_type": "execute_result",
          "data": {
            "text/plain": [
              "<Figure size 1374.44x284.278 with 1 Axes>"
            ],
            "image/png": "[encoded data removed]"
          },
          "metadata": {},
          "execution_count": 9
        }
      ],
      "source": [
        "qreg_q = QuantumRegister(3, 'q')\n",
        "\n",
        "circuit = QuantumCircuit(qreg_q)\n",
        "\n",
        "circuit.cx(qreg_q[0], qreg_q[2])\n",
        "circuit.h(qreg_q[0])\n",
        "circuit.cx(qreg_q[1], qreg_q[0])\n",
        "circuit.cx(qreg_q[0], qreg_q[2])\n",
        "circuit.rz(0.125, qreg_q[0])\n",
        "circuit.rz(-0.125, qreg_q[2])\n",
        "circuit.cx(qreg_q[0], qreg_q[1])\n",
        "circuit.cx(qreg_q[1], qreg_q[2])\n",
        "circuit.h(qreg_q[0])\n",
        "circuit.h(qreg_q[2])\n",
        "circuit.cx(qreg_q[2], qreg_q[0])\n",
        "circuit.h(qreg_q[2])\n",
        "circuit.cx(qreg_q[1], qreg_q[2])\n",
        "circuit.h(qreg_q[0])\n",
        "circuit.cx(qreg_q[0], qreg_q[1])\n",
        "circuit.cx(qreg_q[1], qreg_q[0])\n",
        "circuit.h(qreg_q[0])\n",
        "circuit.cx(qreg_q[0], qreg_q[2])\n",
        "\n",
        "circuit.draw('mpl')"
      ]
    },
    {
      "cell_type": "markdown",
      "id": "93410813",
      "metadata": {
        "id": "93410813"
      },
      "source": [
        "Unfortunately for you, I also designed this circuit.  As I would discover when\n",
        "\n",
        "---\n",
        "\n",
        "someone with a smirk passed me the paper <font color = 'blue'>https://arxiv.org/abs/1110.2998v1</font>, this can be further simplifed.  Any good quantum algorithms person will at one point or another in their life implement the quickest circuit they can come up with, and then later optimize.  Rememeber\n",
        "\n",
        "**Premature optimization is the root of all evil **\n",
        "\n",
        "Trying to get best circuit the first time is a great way to introduce bugs.  That said, looking through the diagrams in that paper, can you find places to reduce the gate count of this circuit and implement something better than my 2nd attempt -- Look at Figures of that paper starting at Fig 14?\n",
        "\n",
        "Once you sort it out, write some code in the next cell for a function `def fermion_hopping_opt2` that implements the better circuit.  Once you are happy, flag an instructor to come see if you have sufficiently reduced it."
      ]
    },
    {
      "cell_type": "code",
      "execution_count": null,
      "id": "958eba8c",
      "metadata": {
        "id": "958eba8c"
      },
      "outputs": [],
      "source": []
    },
    {
      "cell_type": "markdown",
      "id": "ffb3072d",
      "metadata": {
        "id": "ffb3072d"
      },
      "source": [
        "Better check you have properly implemented this with a decompose and a draw()"
      ]
    },
    {
      "cell_type": "code",
      "execution_count": null,
      "id": "eadeec6c",
      "metadata": {
        "id": "eadeec6c",
        "outputId": "98df1621-2042-4688-9332-694502d753df",
        "colab": {
          "base_uri": "https://localhost:8080/",
          "height": 255
        }
      },
      "outputs": [
        {
          "output_type": "execute_result",
          "data": {
            "text/plain": [
              "<Figure size 872.774x284.278 with 1 Axes>"
            ],
            "image/png": "[encoded data removed]"
          },
          "metadata": {},
          "execution_count": 11
        }
      ],
      "source": []
    },
    {
      "cell_type": "markdown",
      "id": "ed19c6d1",
      "metadata": {
        "id": "ed19c6d1"
      },
      "source": [
        "Now, clearly 3 qubits and 6 CNOTs is better than 4 qubits and 12 -- So we have done a much better job with our circuit.  With this improvement, we might just get some results from a real device!  Time to start putting the whole simulation together."
      ]
    },
    {
      "cell_type": "markdown",
      "source": [
        "In order to extract physics from this simulation, we need to take the qubits and convert them into a meaningful number.  For this lab, we are going to extract the mean electron number as a function of time.  To do this, define a function `get_mean_fermion_number(counts)` which takes in the dictionary of counts of a run and determines the mean number of electrons by counting the lowest qubit.  "
      ],
      "metadata": {
        "id": "LHmnkip1Skkt"
      },
      "id": "LHmnkip1Skkt"
    },
    {
      "cell_type": "code",
      "source": [
        "#define your function to take in a dictionary counts\n",
        "def get_mean_fermion_number(counts):\n",
        "    #first define a variable mean and set to 0\n",
        "    mean = 0\n",
        "    #define a variable total_counts = sum(counts.values())\n",
        "    total_counts = sum(counts.values())\n",
        "    #perform a for loop over the elements in counts, using for example `s` as the loop variable\n",
        "    for s in counts:\n",
        "        #define a variable p which is the last element of the identifier in your loop variable\n",
        "        #i.e. p = s[-1]\n",
        "        p = s[-1]\n",
        "        #check if p is a `1`.\n",
        "        if p == '1':\n",
        "            #if p == '1', then add to mean counts[s]/total_counts\n",
        "            mean += 1./total_counts * counts[s]\n",
        "    return mean"
      ],
      "metadata": {
        "id": "NB4D22F7SkD7"
      },
      "id": "NB4D22F7SkD7",
      "execution_count": null,
      "outputs": []
    },
    {
      "cell_type": "markdown",
      "id": "20a65c99",
      "metadata": {
        "id": "20a65c99"
      },
      "source": [
        "In order to understand how badly we are doing with our real device results, we need to be computing some kind of statistical error bars, so that we can distinguish meaningful disagreement with the exact results from fluctuations from sampling.  To do this, we will employ the _bootstrap method_ which is similar to the replica method that you were introduced to long ago during the Monte Carlo lab.  Lets implement that next:"
      ]
    },
    {
      "cell_type": "code",
      "execution_count": null,
      "id": "55fc7026",
      "metadata": {
        "id": "55fc7026"
      },
      "outputs": [],
      "source": [
        "#define a function `get_bootstrap_error(counts)` which takes in a dictionary `counts`\n",
        "def get_bootstrap_error(counts):\n",
        "    #compute the nshots by using sum(counts.values())\n",
        "    nshots=sum(counts.values())\n",
        "    #For our statistics, we will resample the distribution 100 times, so set B=100\n",
        "    B = 100\n",
        "    #Extract the list of unique keys in your dictionary and store them as a variable k via\n",
        "    # k = list(counts.keys())\n",
        "    k = list(counts.keys())\n",
        "    #For each key, we need to define a probability list prob via [counts[a]/nshots for a in k]\n",
        "    prob = [counts[a]/nshots for a in k]\n",
        "    #define an empty array means\n",
        "    means = []\n",
        "    #With all this setup, now perform a for loop over b in range(B)\n",
        "    for b in range(B):\n",
        "        #set a variable m=0\n",
        "        m = 0\n",
        "        #build a new set of samples using numpy.random.choice with the arguments k, size=nshots, and p=prob\n",
        "        #this function will return nshots worth of new results with probability prob from the choices in k\n",
        "        samples = np.random.choice(k, size=nshots, p=prob)\n",
        "        #make a for loop over s in the list samples\n",
        "        for s in samples:\n",
        "            #set a new variable p = s[-1] to again extract the number of electrons\n",
        "            p = s[-1]\n",
        "            #check if p = `1`\n",
        "            if p == '1':\n",
        "                #add 1/nshots to m if true\n",
        "                m += 1./nshots\n",
        "        #append the results of m to means\n",
        "        means.append(m)\n",
        "    #return from the function the standard deviation of means via numpy.std(means)\n",
        "    return np.std(means)"
      ]
    },
    {
      "cell_type": "markdown",
      "id": "5c138c7d",
      "metadata": {
        "id": "5c138c7d"
      },
      "source": [
        "At this point, we have made all of the functions we need to run the code, and produce a time-evolution simulation.  So on to the main event:\n",
        "\n",
        "* Define a bunch of empty list: `Ts`, and `circuits`\n",
        "* Besides the above code, everything else should be within a for-loop in `T` over the `range(int(1.5/epsilon))` which will loop over the total integer time `T`.  The real total time is $\\epsilon T$\n",
        "* At the beginning of each step, append `T` to `Ts`\n",
        "* Create a QuantumCircuit with enough qubits and classical bits to run using `fermion_hopping_opt2`.  Remember the number of fermions is stored as $N$.\n",
        "* In order to do time-evolution of a state $|\\psi(t)\\rangle$, we need to define the initial state.  For us, lets use $H_0X_0|000\\rangle$ as our initial state. The subscripts indicate which qubit the gates act on.\n",
        "* Within the $T$ loop, we need another loop over $t$ which ranges from 0 to $T$.  This will be used to add the appropriate number of gates for the number of trotter steps $t$ taken.\n",
        "\n",
        "Within the $t$ loop, you will need 3 loops:\n",
        " 1. Loop over all fermions (Hint, this is not a simple range function but should step by 2). Appending to your circuit the fermion mass gate with parameters `epsilon`, `mass`, and for eta one should send in $(-1)^{n/2+1}$ where $n$ is the loop variable.\n",
        " 2. Loop over all the photons (Hint, this is not a simple range function but should step by 2).  Append to your circuit `gauge_kinetic` with `epsilon`\n",
        " 3. Loop over all electrons (Hint this loop should have the same step as the fermion loop, but should terminate 2 qubits earlier\n",
        "\n",
        "At the end, still inside the $T$ loop but outside the $t$ loop,\n",
        "* apply the gates to your qubits: $H_0H_2|\\psi\\rangle$\n",
        "* append the circuit you created to the list `circuits`\n",
        "\n",
        " This completes time evolution and circuit creation. Draw some of your circuits to check they look like what you are expecting."
      ]
    },
    {
      "cell_type": "code",
      "execution_count": null,
      "id": "5e4dd358",
      "metadata": {
        "scrolled": true,
        "id": "5e4dd358",
        "colab": {
          "base_uri": "https://localhost:8080/",
          "height": 294
        },
        "outputId": "2cda2918-7ebb-42c6-eccf-6e3adfe1a0e4"
      },
      "outputs": [
        {
          "output_type": "execute_result",
          "data": {
            "text/plain": [
              "        ┌───┐    ┌───┐┌───────┐┌─────────────┐ ┌───────┐  ┌─────────────┐┌───┐»\n",
              "q_0: ───┤ X ├────┤ H ├┤ U$_m$ ├┤0            ├─┤ U$_m$ ├──┤0            ├┤ H ├»\n",
              "     ┌──┴───┴───┐└───┘└───────┘│             │┌┴───────┴─┐│             │└───┘»\n",
              "q_1: ┤ U$_{Kg}$ ├──────────────┤1 U$_{fho2}$ ├┤ U$_{Kg}$ ├┤1 U$_{fho2}$ ├─────»\n",
              "     └┬───────┬─┘              │             │└┬───────┬─┘│             │┌───┐»\n",
              "q_2: ─┤ U$_m$ ├────────────────┤2            ├─┤ U$_m$ ├──┤2            ├┤ H ├»\n",
              "      └───────┘                └─────────────┘ └───────┘  └─────────────┘└───┘»\n",
              "c: 3/═════════════════════════════════════════════════════════════════════════»\n",
              "                                                                              »\n",
              "«        ┌─┐   \n",
              "«q_0: ───┤M├───\n",
              "«     ┌─┐└╥┘   \n",
              "«q_1: ┤M├─╫────\n",
              "«     └╥┘ ║ ┌─┐\n",
              "«q_2: ─╫──╫─┤M├\n",
              "«      ║  ║ └╥┘\n",
              "«c: 3/═╩══╩══╩═\n",
              "«      1  0  2 "
            ],
            "text/html": [
              "<pre style=\"word-wrap: normal;white-space: pre;background: #fff0;line-height: 1.1;font-family: &quot;Courier New&quot;,Courier,monospace\">        ┌───┐    ┌───┐┌───────┐┌─────────────┐ ┌───────┐  ┌─────────────┐┌───┐»\n",
              "q_0: ───┤ X ├────┤ H ├┤ U$_m$ ├┤0            ├─┤ U$_m$ ├──┤0            ├┤ H ├»\n",
              "     ┌──┴───┴───┐└───┘└───────┘│             │┌┴───────┴─┐│             │└───┘»\n",
              "q_1: ┤ U$_{Kg}$ ├──────────────┤1 U$_{fho2}$ ├┤ U$_{Kg}$ ├┤1 U$_{fho2}$ ├─────»\n",
              "     └┬───────┬─┘              │             │└┬───────┬─┘│             │┌───┐»\n",
              "q_2: ─┤ U$_m$ ├────────────────┤2            ├─┤ U$_m$ ├──┤2            ├┤ H ├»\n",
              "      └───────┘                └─────────────┘ └───────┘  └─────────────┘└───┘»\n",
              "c: 3/═════════════════════════════════════════════════════════════════════════»\n",
              "                                                                              »\n",
              "«        ┌─┐   \n",
              "«q_0: ───┤M├───\n",
              "«     ┌─┐└╥┘   \n",
              "«q_1: ┤M├─╫────\n",
              "«     └╥┘ ║ ┌─┐\n",
              "«q_2: ─╫──╫─┤M├\n",
              "«      ║  ║ └╥┘\n",
              "«c: 3/═╩══╩══╩═\n",
              "«      1  0  2 </pre>"
            ]
          },
          "metadata": {},
          "execution_count": 14
        }
      ],
      "source": []
    },
    {
      "cell_type": "markdown",
      "source": [
        "First define some more empty arrays `sim_counts`, `sim_means`, `sim_errs`\n",
        "\n",
        "You should set up a AerSimulator, transpile `circuits`, and run. Then read the code and check that it creates for loop that:\n",
        "\n",
        "* extracts the counts for each of the times ran for\n",
        "* computes the mean of the counts for each time\n",
        "* computes the statistical error for each count each time\n",
        "* prints `T*epsilon, sim_means[T], sim_errs[T]` at each time step to get the numbers instantly."
      ],
      "metadata": {
        "id": "y8KGNkOlOOXV"
      },
      "id": "y8KGNkOlOOXV"
    },
    {
      "cell_type": "code",
      "source": [],
      "metadata": {
        "colab": {
          "base_uri": "https://localhost:8080/"
        },
        "id": "ZooHDMZlONuT",
        "outputId": "df1a03f9-4ab1-4bfe-ec4b-ad13b97ccbb3"
      },
      "id": "ZooHDMZlONuT",
      "execution_count": null,
      "outputs": [
        {
          "output_type": "stream",
          "name": "stdout",
          "text": [
            "0.0 0.5166015625 0.01343643184231127\n",
            "0.5 0.427734375 0.015637479757391912\n",
            "1.0 0.357421875 0.01617906788257062\n"
          ]
        }
      ]
    },
    {
      "cell_type": "markdown",
      "id": "eec176a3-1975-492e-9198-ff3db953cb5b",
      "metadata": {
        "id": "eec176a3-1975-492e-9198-ff3db953cb5b"
      },
      "source": [
        "At this point, contact a lab instructor to come check your code, because the last step is to extend the time step from $1/\\epsilon$ to $3/\\epsilon$ (By changing the range to `int(3.5/epsilon)`.  Copy your code from before to the cell below, and make this modification. This will require many more calls to the real device, so it could take a while.  Then run the simulation cell further below"
      ]
    },
    {
      "cell_type": "code",
      "source": [],
      "metadata": {
        "colab": {
          "base_uri": "https://localhost:8080/",
          "height": 320
        },
        "id": "nno9-sQVRvp3",
        "outputId": "8dbd426e-f48b-463f-a914-0f6a30bf98c9"
      },
      "id": "nno9-sQVRvp3",
      "execution_count": null,
      "outputs": [
        {
          "output_type": "execute_result",
          "data": {
            "text/plain": [
              "<Figure size 454.719x367.889 with 1 Axes>"
            ],
            "image/png": "[encoded data removed]"
          },
          "metadata": {},
          "execution_count": 16
        }
      ]
    },
    {
      "cell_type": "code",
      "source": [
        "sim_backend = AerSimulator()\n",
        "pm = generate_preset_pass_manager(backend=sim_backend, optimization_level=3)\n",
        "transpiled_circuit = pm.run(circuits)\n",
        "sampler = Sampler(backend=sim_backend)\n",
        "sim_job=sampler.run(transpiled_circuit)\n",
        "\n",
        "\n",
        "backend = service.least_busy(simulator=False)\n",
        "pm = generate_preset_pass_manager(backend=backend, optimization_level=3)\n",
        "transpiled_circuit = pm.run(circuits)\n",
        "\n",
        "#Set up the Sampler with backend\n",
        "sampler = Sampler(backend=backend)\n",
        "\n",
        "#Run the circuits, and get results\n",
        "#job = sampler.run(transpiled_circuit)\n",
        "\n",
        "#print(f\">>> Job ID: {job.job_id()}\")\n",
        "#print(f\">>> Job Status: {job.status()}\")"
      ],
      "metadata": {
        "colab": {
          "base_uri": "https://localhost:8080/"
        },
        "id": "dAtT8ScQRc31",
        "outputId": "62a2eda4-121e-4b9a-f523-9c5999c185fa"
      },
      "id": "dAtT8ScQRc31",
      "execution_count": null,
      "outputs": [
        {
          "output_type": "stream",
          "name": "stdout",
          "text": [
            "PrimitiveResult([SamplerPubResult(data=DataBin(c=BitArray(<shape=(), num_shots=1024, num_bits=3>))), SamplerPubResult(data=DataBin(c=BitArray(<shape=(), num_shots=1024, num_bits=3>))), SamplerPubResult(data=DataBin(c=BitArray(<shape=(), num_shots=1024, num_bits=3>))), SamplerPubResult(data=DataBin(c=BitArray(<shape=(), num_shots=1024, num_bits=3>))), SamplerPubResult(data=DataBin(c=BitArray(<shape=(), num_shots=1024, num_bits=3>))), SamplerPubResult(data=DataBin(c=BitArray(<shape=(), num_shots=1024, num_bits=3>))), SamplerPubResult(data=DataBin(c=BitArray(<shape=(), num_shots=1024, num_bits=3>)))], metadata={})\n"
          ]
        },
        {
          "output_type": "stream",
          "name": "stderr",
          "text": [
            "<ipython-input-40-0cfa9fd00cd3>:8: DeprecationWarning: The 'backend' keyword arguments are deprecated as of qiskit-ibm-runtime 0.24.0 and will be removed no sooner than 3 months after the release date. Please use the 'mode' parameter instead.\n",
            "  sampler = Sampler(backend=sim_backend)\n"
          ]
        }
      ]
    },
    {
      "cell_type": "markdown",
      "source": [
        "Get your job back, and store it in `result`"
      ],
      "metadata": {
        "id": "YKzSigCgTOnR"
      },
      "id": "YKzSigCgTOnR"
    },
    {
      "cell_type": "code",
      "source": [
        "job_id=''\n",
        "job = service.job(job_id)\n",
        "sim_result=sim_job.result()\n",
        "result=job.result()"
      ],
      "metadata": {
        "id": "sIut1X1sTTGu"
      },
      "id": "sIut1X1sTTGu",
      "execution_count": null,
      "outputs": []
    },
    {
      "cell_type": "code",
      "source": [
        "counts=[]\n",
        "sim_counts=[]\n",
        "means=[]\n",
        "errs=[]\n",
        "sim_means=[]\n",
        "sim_errs=[]\n",
        "\n",
        "for T in range(int(3.5/epsilon)):\n",
        "\n",
        "  sim_counts.append(sim_result[T].data.c.get_counts())\n",
        "  sim_means.append(get_mean_fermion_number(sim_counts[T]))\n",
        "  sim_errs.append(get_bootstrap_error(sim_counts[T]))\n",
        "\n",
        "  counts.append(result[T].data.c.get_counts())\n",
        "  means.append(get_mean_fermion_number(counts[T]))\n",
        "  errs.append(get_bootstrap_error(counts[T]))\n",
        "\n",
        "  print(T*epsilon, sim_means[T], sim_errs[T], means[T], errs[T])"
      ],
      "metadata": {
        "colab": {
          "base_uri": "https://localhost:8080/"
        },
        "id": "iqFvcAmMRni0",
        "outputId": "8b8368a0-0f8a-48ef-a1ff-edab460abf1b"
      },
      "id": "iqFvcAmMRni0",
      "execution_count": null,
      "outputs": [
        {
          "output_type": "stream",
          "name": "stdout",
          "text": [
            "0.0 1.0 0.0 0.992431640625 0.001104905594983152\n",
            "0.5 0.9375 0.006709339737677335 0.83154296875 0.00628135967633351\n",
            "1.0 0.7451171875 0.015466961998147807 0.612548828125 0.007764302929836465\n",
            "1.5 0.498046875 0.014003575958230093 0.409912109375 0.007724272941275022\n",
            "2.0 0.2861328125 0.014464984049414112 0.273193359375 0.006608176896102472\n",
            "2.5 0.0927734375 0.009210366785489175 0.237548828125 0.0065963543995946165\n",
            "3.0 0.009765625 0.002806984473543948 0.26806640625 0.00719189385165423\n"
          ]
        }
      ]
    },
    {
      "cell_type": "markdown",
      "source": [
        "After your done, run the next cell.  It should plot the simulator results (blue) vs the real device (red).  How did you do?  Do they agre e within errors everywhere?  Do they start getting worse?"
      ],
      "metadata": {
        "id": "Q_rHuzboRpjl"
      },
      "id": "Q_rHuzboRpjl"
    },
    {
      "cell_type": "code",
      "execution_count": null,
      "id": "e860c71d",
      "metadata": {
        "id": "e860c71d",
        "outputId": "04ef92aa-26cd-401c-8d4d-fb33c9128d6f",
        "colab": {
          "base_uri": "https://localhost:8080/",
          "height": 447
        }
      },
      "outputs": [
        {
          "output_type": "execute_result",
          "data": {
            "text/plain": [
              "<ErrorbarContainer object of 3 artists>"
            ]
          },
          "metadata": {},
          "execution_count": 48
        },
        {
          "output_type": "display_data",
          "data": {
            "text/plain": [
              "<Figure size 640x480 with 1 Axes>"
            ],
            "image/png": "[encoded data removed]"
          },
          "metadata": {}
        }
      ],
      "source": [
        "plt.errorbar(Ts, sim_means , yerr=sim_errs, ls='', marker='o', color='b')\n",
        "plt.errorbar(Ts, means , yerr=errs, ls='', marker='o', color='r')"
      ]
    },
    {
      "cell_type": "markdown",
      "id": "8fb4d9dd-9c43-48f6-bfd7-96ea94e84da2",
      "metadata": {
        "id": "8fb4d9dd-9c43-48f6-bfd7-96ea94e84da2"
      },
      "source": [
        "For those of us in High Energy Physics, there is something interesting in this plot.  We earlier discussed that a state will oscillate like $e^{-i E t}|\\psi_0\\rangle$.  If you take the right combination of observables, you would get a sin(Et) or cos(Et).  In this case, measuring the frequency of the wave tells you the energy of the state you have prepared.  Can you extract a fit to your data and derive a value of the energy?\n",
        "\n",
        "A good reference for how one might implement such a function is https://docs.scipy.org/doc/scipy/reference/generated/scipy.optimize.curve_fit.html, although you need to import scipy to make it work.  The functional form you will want to fit is $A*sin(B*t+C)+D$, and the resulting $B$ would be an estimate of the energy.\n",
        "\n",
        "Printed at the bottom are the exact value when $\\epsilon$ goes to zero, your simulated result, and the real device."
      ]
    },
    {
      "cell_type": "code",
      "source": [
        "def func(x, a,b,c,d):\n",
        "    return a * np.sin(b * x + c) +d\n",
        "\n",
        "popt, pcov = curve_fit(func, Ts, sim_means)\n",
        "rpopt, rpcov = curve_fit(func, Ts, means)\n",
        "print(\"Exact: \",1.03)\n",
        "print(\" Simulated: \",popt[1])\n",
        "print(\"Real Device: \",rpopt[1])"
      ],
      "metadata": {
        "colab": {
          "base_uri": "https://localhost:8080/"
        },
        "id": "K-KGWw_6H9OO",
        "outputId": "12e69496-6da4-4d68-aa20-bcb076a748d4"
      },
      "id": "K-KGWw_6H9OO",
      "execution_count": null,
      "outputs": [
        {
          "output_type": "stream",
          "name": "stdout",
          "text": [
            "Exact:  1.03\n",
            " Simulated:  0.9876900107727801\n",
            "Real Device:  0.9665869301967304\n"
          ]
        }
      ]
    },
    {
      "cell_type": "markdown",
      "source": [
        "This cell plots your simulated (blue) and real (red) results with their best fits along side the exact result (green)."
      ],
      "metadata": {
        "id": "MNXXEyQ1Imt3"
      },
      "id": "MNXXEyQ1Imt3"
    },
    {
      "cell_type": "code",
      "source": [
        "plt.errorbar(Ts, sim_means , yerr=sim_errs, ls='', marker='o', color='b')\n",
        "plt.errorbar(Ts, means , yerr=errs, ls='', marker='o', color='r')\n",
        "plt.plot(np.linspace(0,6,50), func(np.array(np.linspace(0,6,50)), *popt), 'b--')\n",
        "plt.plot(np.linspace(0,6,50), func(np.array(np.linspace(0,6,50)), *rpopt), 'r--')\n",
        "plt.plot(np.linspace(0,6,50), func(np.array(np.linspace(0,6,50)), *[0.5,1.03,np.pi/2,0.5]), 'g--')"
      ],
      "metadata": {
        "colab": {
          "base_uri": "https://localhost:8080/",
          "height": 447
        },
        "id": "UOhkb8K4InTt",
        "outputId": "660a92b0-f5f9-4998-87b1-f1bb10fb87db"
      },
      "id": "UOhkb8K4InTt",
      "execution_count": null,
      "outputs": [
        {
          "output_type": "execute_result",
          "data": {
            "text/plain": [
              "[<matplotlib.lines.Line2D at 0x78e9dd2f0850>]"
            ]
          },
          "metadata": {},
          "execution_count": 52
        },
        {
          "output_type": "display_data",
          "data": {
            "text/plain": [
              "<Figure size 640x480 with 1 Axes>"
            ],
            "image/png": "[encoded data removed]"
          },
          "metadata": {}
        }
      ]
    }
  ],
  "metadata": {
    "kernelspec": {
      "display_name": "Python 3 (ipykernel)",
      "language": "python",
      "name": "python3"
    },
    "language_info": {
      "codemirror_mode": {
        "name": "ipython",
        "version": 3
      },
      "file_extension": ".py",
      "mimetype": "text/x-python",
      "name": "python",
      "nbconvert_exporter": "python",
      "pygments_lexer": "ipython3",
      "version": "3.8.13"
    },
    "colab": {
      "provenance": []
    }
  },
  "nbformat": 4,
  "nbformat_minor": 5
}